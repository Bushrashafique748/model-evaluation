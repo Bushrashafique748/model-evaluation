{
  "nbformat": 4,
  "nbformat_minor": 0,
  "metadata": {
    "colab": {
      "provenance": [],
      "authorship_tag": "ABX9TyP3fvqcTCznQpEsYPoacEsp",
      "include_colab_link": true
    },
    "kernelspec": {
      "name": "python3",
      "display_name": "Python 3"
    },
    "language_info": {
      "name": "python"
    }
  },
  "cells": [
    {
      "cell_type": "markdown",
      "metadata": {
        "id": "view-in-github",
        "colab_type": "text"
      },
      "source": [
        "<a href=\"https://colab.research.google.com/github/Bushrashafique748/model-evaluation/blob/main/model_evaluation3.ipynb\" target=\"_parent\"><img src=\"https://colab.research.google.com/assets/colab-badge.svg\" alt=\"Open In Colab\"/></a>"
      ]
    },
    {
      "cell_type": "code",
      "execution_count": 5,
      "metadata": {
        "id": "3aymWogZp-IT"
      },
      "outputs": [],
      "source": [
        "from sklearn.datasets import load_iris  # for importing iris-dataset which is available in this laibrary\n",
        "from sklearn.model_selection import train_test_split, cross_val_score  # use this to split data for training and testing model\n",
        "from sklearn.linear_model import LogisticRegression\n",
        "from sklearn.metrics import accuracy_score, precision_score, recall_score, f1_score\n",
        "from sklearn.metrics import confusion_matrix\n",
        "import seaborn as sns\n",
        "import matplotlib.pyplot as plt\n",
        "from sklearn.metrics import roc_curve, auc\n",
        "import numpy as np\n",
        "\n",
        "# Load the dataset\n",
        "\n",
        "iris = load_iris() # here we simply call function to load iris dataset\n",
        "X = iris.data   #( Features (input data) like sepal length, sepal width, petal length, petal width...which are the measurments of the iris flowers\n",
        "                # this line assign features to variable \"x\" ).\n",
        "\n",
        "y = iris.target  # (target labels (output data) like Setosa, Versicolor, Virginica ... which are flower species\n",
        "                 # this line  assigns these labels to the variable y.)\n",
        "\n",
        "\n",
        "# Split the dataset into training and test sets\n",
        "\n",
        "X_train, X_test, y_train, y_test = train_test_split(X, y, test_size=0.2, random_state=42)\n",
        "\n",
        "# now train the classification model using logistic regression model\n",
        "\n",
        "model = LogisticRegression(max_iter=200)\n",
        "\n"
      ]
    },
    {
      "cell_type": "code",
      "source": [
        "# Perform k-fold cross-validation (k=5) and calculate accuracy scores\n",
        "cv_scores = cross_val_score(model, X, y, cv=5, scoring='accuracy')\n",
        "\n",
        "# Report mean and standard deviation of cross-validation accuracy\n",
        "mean_accuracy = np.mean(cv_scores)\n",
        "std_accuracy = np.std(cv_scores)\n",
        "\n",
        "print(f\"Mean Cross-Validation Accuracy: {mean_accuracy:.4f}\")\n",
        "print(f\"Standard Deviation of Cross-Validation Accuracy: {std_accuracy:.4f}\")\n"
      ],
      "metadata": {
        "colab": {
          "base_uri": "https://localhost:8080/"
        },
        "id": "KfQ3XA0gHhn5",
        "outputId": "c71d2fab-acc8-4906-f086-d268897bba64"
      },
      "execution_count": 7,
      "outputs": [
        {
          "output_type": "stream",
          "name": "stdout",
          "text": [
            "Mean Cross-Validation Accuracy: 0.9733\n",
            "Standard Deviation of Cross-Validation Accuracy: 0.0249\n"
          ]
        }
      ]
    },
    {
      "cell_type": "markdown",
      "source": [
        "#Why Cross-Validation is Important in Model Evaluation....\n",
        "\n",
        "\n",
        "\n"
      ],
      "metadata": {
        "id": "tPFkD-0eJhut"
      }
    },
    {
      "cell_type": "markdown",
      "source": [
        "**Robust Performance Estimate:**\n",
        "Provides a reliable estimate of model performance on independent data.\n",
        "\n",
        "**Mitigates Overfitting:**\n",
        "Detects overfitting by revealing discrepancies between training and validation performance.\n",
        "\n",
        "**Model Selection and Tuning:**\n",
        "Facilitates comparison of models and hyperparameters to select the best configuration.\n",
        "\n",
        "**Variance and Stability Assessment:**\n",
        "Assesses performance consistency with mean accuracy and standard deviation.\n",
        "\n",
        "**Utilizes Data Efficiently:**\n",
        "Maximizes data use, ensuring each point is used for training and validation.\n",
        "\n",
        "\n",
        "\n",
        "\n",
        "\n",
        "\n"
      ],
      "metadata": {
        "id": "QbzKIEbUJ_Gw"
      }
    },
    {
      "cell_type": "code",
      "source": [
        "# now we will make predictions and calculate matrics\n",
        "# prediction.....\n",
        "model.fit(X_train, y_train)\n",
        "y_pred = model.predict(X_test)\n",
        "y_pred_proba = model.predict_proba(X_test)\n",
        "\n",
        "# calculate marics like accuracy, precision, recall, and F1-score....\n",
        "\n",
        "accuracy = accuracy_score(y_test, y_pred)\n",
        "precision = precision_score(y_test, y_pred, average='weighted')\n",
        "recall = recall_score(y_test, y_pred, average='weighted')\n",
        "f1 = f1_score(y_test, y_pred, average='weighted')\n",
        "\n",
        "print(f\"Accuracy: {accuracy}\")\n",
        "print(f\"Precision: {precision}\")\n",
        "print(f\"Recall: {recall}\")\n",
        "print(f\"F1-Score: {f1}\")\n",
        "\n"
      ],
      "metadata": {
        "colab": {
          "base_uri": "https://localhost:8080/"
        },
        "id": "H4BprV39rhyI",
        "outputId": "4ffe7911-d66b-4e20-c0ab-f119c4b3e552"
      },
      "execution_count": 3,
      "outputs": [
        {
          "output_type": "stream",
          "name": "stdout",
          "text": [
            "Accuracy: 1.0\n",
            "Precision: 1.0\n",
            "Recall: 1.0\n",
            "F1-Score: 1.0\n"
          ]
        }
      ]
    },
    {
      "cell_type": "markdown",
      "source": [
        "**Accuracy (1.0):** means 100% of the predictions are correct, meaning the model has classified all test samples accurately.\n",
        "\n",
        "**Precision (1.0):** means All predicted positives are correct, indicating no false positives.\n",
        "\n",
        "**Recall (1.0):** means All actual positives are correctly identified, meaning no false negatives.\n",
        "\n",
        "**F1-Score (1.0):** means Perfect balance between precision and recall, showing ideal performance."
      ],
      "metadata": {
        "id": "Tf8KMgBn3Z9g"
      }
    },
    {
      "cell_type": "markdown",
      "source": [
        "These metrics tells that our model performs well on the test set, with high accuracy, precision, recall, and F1-score, suggesting it is effective at making correct predictions and identifying positive instances."
      ],
      "metadata": {
        "id": "orcbZmij2nc8"
      }
    },
    {
      "cell_type": "code",
      "source": [
        "# confusion matric interpretation......\n",
        "# Generate the confusion matrix\n",
        "conf_matrix = confusion_matrix(y_test, y_pred)\n",
        "\n",
        "print(\"Confusion Matrix:\")\n",
        "print(conf_matrix)\n"
      ],
      "metadata": {
        "colab": {
          "base_uri": "https://localhost:8080/"
        },
        "id": "WjJv_W-o_DSu",
        "outputId": "44c17993-f0f1-4b61-9eb4-f2729e72da72"
      },
      "execution_count": 7,
      "outputs": [
        {
          "output_type": "stream",
          "name": "stdout",
          "text": [
            "Confusion Matrix:\n",
            "[[10  0  0]\n",
            " [ 0  9  0]\n",
            " [ 0  0 11]]\n"
          ]
        }
      ]
    },
    {
      "cell_type": "markdown",
      "source": [
        "#Explanation of each value.....\n",
        "\n",
        "\n",
        "**[10, 0, 0]:** All 10 instances of Setosa are correctly predicted as Setosa.\n",
        "**[0, 9, 0]:** 9 instances of Versicolor are correctly predicted as Versicolor.\n",
        "**[0, 0, 11]:** All 11 instances of Virginica are correctly predicted as Virginica."
      ],
      "metadata": {
        "id": "JDlIFdelF_Uu"
      }
    },
    {
      "cell_type": "markdown",
      "source": [
        "**How the Confusion Matrix Helps in Understanding the Model's Performance.....**\n",
        "\n",
        "The confusion matrix is a powerful tool for evaluating a classification model. It provides:\n",
        "\n",
        "**Overall Accuracy:** Shows correct and incorrect predictions. Here, diagonal values (10, 9, 11) indicate mostly correct classifications.\n",
        "\n",
        "**Class-Specific Performance:** Diagonal values reveal performance for each class, showing perfect results for Setosa and Virginica, and near-perfect for Versicolor.\n",
        "\n",
        "**Error Analysis:** Off-diagonal values indicate errors. No false positives or negatives for Setosa and Virginica, but one false negative for Versicolor."
      ],
      "metadata": {
        "id": "VB5vOsM_HbNd"
      }
    },
    {
      "cell_type": "code",
      "source": [
        "# Calculate ROC curve and AUC for each class\n",
        "fpr = dict()\n",
        "tpr = dict()\n",
        "roc_auc = dict()\n",
        "for i in range(len(iris.target_names)):\n",
        "    fpr[i], tpr[i], _ = roc_curve(y_test, y_pred_proba[:, i], pos_label=i)\n",
        "    roc_auc[i] = auc(fpr[i], tpr[i])\n",
        "\n",
        "# Plot ROC curve for each class\n",
        "plt.figure(figsize=(6, 4))\n",
        "colors = ['blue', 'red', 'green']\n",
        "for i, color in zip(range(len(iris.target_names)), colors):\n",
        "    plt.plot(fpr[i], tpr[i], color=color, lw=2, label=f'ROC curve (area = {roc_auc[i]:.2f}) for {iris.target_names[i]}')\n",
        "plt.plot([0, 1], [0, 1], color='gray', linestyle='--', lw=2)\n",
        "plt.xlim([0.0, 1.0])\n",
        "plt.ylim([0.0, 1.05])\n",
        "plt.xlabel('False Positive Rate')\n",
        "plt.ylabel('True Positive Rate')\n",
        "plt.title('Receiver Operating Characteristic (ROC) Curve')\n",
        "plt.legend(loc='lower right')\n",
        "plt.show()\n",
        "\n",
        "# Print AUC values\n",
        "print(\"AUC values:\")\n",
        "for i, name in enumerate(iris.target_names):\n",
        "    print(f\"{name}: {roc_auc[i]:.2f}\")\n"
      ],
      "metadata": {
        "colab": {
          "base_uri": "https://localhost:8080/",
          "height": 479
        },
        "id": "gtjXnyCOWxbV",
        "outputId": "6a742b91-f410-4285-e1d8-eea0c2626ee6"
      },
      "execution_count": 19,
      "outputs": [
        {
          "output_type": "display_data",
          "data": {
            "text/plain": [
              "<Figure size 600x400 with 1 Axes>"
            ],
            "image/png": "[encoded data removed]"
          },
          "metadata": {}
        },
        {
          "output_type": "stream",
          "name": "stdout",
          "text": [
            "AUC values:\n",
            "setosa: 1.00\n",
            "versicolor: 1.00\n",
            "virginica: 1.00\n"
          ]
        }
      ]
    },
    {
      "cell_type": "markdown",
      "source": [
        "#How these metrics help in evaluating model's performance....\n",
        "\n",
        "\n",
        "These metrics, namely **ROC curve** and **AUC** (Area Under the Curve), help in evaluating a model's performance by providing insights into its ability to discriminate between classes:"
      ],
      "metadata": {
        "id": "PIcRIPKDdDme"
      }
    },
    {
      "cell_type": "markdown",
      "source": [
        "**ROC Curve:**\n",
        "\n",
        "**Visualization of Performance:** Shows how well the model separates true positives from false positives across different thresholds.\n",
        "\n",
        "**Model Comparison:** Helps compare different models visually; better models have curves closer to the top-left corner"
      ],
      "metadata": {
        "id": "suAmyu32dOLO"
      }
    },
    {
      "cell_type": "markdown",
      "source": [
        "**AUC (Area Under the Curve):**\n",
        "\n",
        "**Single Metric Evaluation:** Provides a single score (0 to 1) summarizing overall model performance.\n",
        "\n",
        "**Quantitative Assessment:** Higher AUC values indicate better classification ability; 0.5 means no better than random, 1.0 means perfect classification."
      ],
      "metadata": {
        "id": "LH9Y-0Mqdg_5"
      }
    }
  ]
}